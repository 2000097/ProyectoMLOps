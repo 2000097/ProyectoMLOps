{
 "cells": [
  {
   "cell_type": "code",
   "execution_count": 0,
   "metadata": {
    "application/vnd.databricks.v1+cell": {
     "cellMetadata": {
      "byteLimit": 2048000,
      "rowLimit": 10000
     },
     "inputWidgets": {},
     "nuid": "5d3bca9c-5dc7-492e-88ab-1d9f81dcd24b",
     "showTitle": false,
     "tableResultSettingsMap": {},
     "title": ""
    }
   },
   "outputs": [],
   "source": [
    "# # 04 - Gobernanza y Auditoría de Datos\n",
    "\n",
    "# COMMAND ----------\n",
    "\n",
    "# Auditoría tabla de datos limpios\n",
    "print(\"📘 Historial tabla: datalottery.lotterybets.lottery_bets_dirty_cleaned\")\n",
    "spark.sql(\"DESCRIBE HISTORY lotterybets_lotterybets_bets_cleaned\").show(truncate=False)\n",
    "\n",
    "# Auditoría tabla de features\n",
    "print(\"📘 Historial tabla: datalottery.lotterybets.lottery_bets_dirty_features\")\n",
    "spark.sql(\"DESCRIBE HISTORY lotterybets_lotterybets_bets_features\").show(truncate=False)\n"
   ]
  },
  {
   "cell_type": "code",
   "execution_count": 0,
   "metadata": {
    "application/vnd.databricks.v1+cell": {
     "cellMetadata": {
      "byteLimit": 2048000,
      "implicitDf": true,
      "rowLimit": 10000
     },
     "inputWidgets": {},
     "nuid": "4c808d47-2fa0-4268-aeaa-12aa80e06077",
     "showTitle": false,
     "tableResultSettingsMap": {},
     "title": ""
    }
   },
   "outputs": [],
   "source": [
    "%sql\n",
    "DESCRIBE HISTORY datalottery.lotterybets.lottery_bets_dirty"
   ]
  },
  {
   "cell_type": "code",
   "execution_count": 0,
   "metadata": {
    "application/vnd.databricks.v1+cell": {
     "cellMetadata": {
      "byteLimit": 2048000,
      "implicitDf": true,
      "rowLimit": 10000
     },
     "inputWidgets": {},
     "nuid": "ddea1aef-2296-4360-ba44-4bfc8cb8d29d",
     "showTitle": false,
     "tableResultSettingsMap": {},
     "title": ""
    }
   },
   "outputs": [],
   "source": [
    "%sql\n",
    "DESCRIBE HISTORY datalottery.lotterybets.lottery_bets_dirty_features"
   ]
  }
 ],
 "metadata": {
  "application/vnd.databricks.v1+notebook": {
   "computePreferences": null,
   "dashboards": [],
   "environmentMetadata": {
    "base_environment": "",
    "environment_version": "3"
   },
   "inputWidgetPreferences": null,
   "language": "python",
   "notebookMetadata": {
    "mostRecentlyExecutedCommandWithImplicitDF": {
     "commandId": 6287656880084492,
     "dataframes": [
      "_sqldf"
     ]
    },
    "pythonIndentUnit": 4
   },
   "notebookName": "04_auditoria_gobernanza",
   "widgets": {}
  },
  "language_info": {
   "name": "python"
  }
 },
 "nbformat": 4,
 "nbformat_minor": 0
}
