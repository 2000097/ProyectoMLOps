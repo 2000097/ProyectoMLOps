{
 "cells": [
  {
   "cell_type": "code",
   "execution_count": 0,
   "metadata": {
    "application/vnd.databricks.v1+cell": {
     "cellMetadata": {
      "byteLimit": 2048000,
      "rowLimit": 10000
     },
     "inputWidgets": {},
     "nuid": "7ea82774-76c2-41cd-947d-bb2e1437f9d4",
     "showTitle": false,
     "tableResultSettingsMap": {},
     "title": ""
    }
   },
   "outputs": [],
   "source": [
    "# 05 - KPI Report: Evaluación y Visualización\n",
    "\n",
    "# COMMAND ----------\n",
    "from pyspark.sql.functions import col, count, when, isnan, avg\n",
    "import matplotlib.pyplot as plt\n",
    "import seaborn as sns\n",
    "import pandas as pd\n",
    "from sklearn.metrics import roc_auc_score, roc_curve\n",
    "import joblib\n",
    "import numpy as np\n",
    "\n",
    "sns.set(style=\"whitegrid\")\n",
    "plt.rcParams[\"figure.figsize\"] = (10, 6)\n"
   ]
  },
  {
   "cell_type": "code",
   "execution_count": 0,
   "metadata": {
    "application/vnd.databricks.v1+cell": {
     "cellMetadata": {
      "byteLimit": 2048000,
      "rowLimit": 10000
     },
     "inputWidgets": {},
     "nuid": "349e7921-e182-4e0a-938d-32e393014616",
     "showTitle": false,
     "tableResultSettingsMap": {},
     "title": ""
    }
   },
   "outputs": [],
   "source": [
    "# COMMAND ----------\n",
    "# 📌 Cargar tablas\n",
    "df_raw = spark.table(\"datalottery.lotterybets.lottery_bets_dirty\")\n",
    "df_clean = spark.table(\"datalottery.lotterybets.lottery_bets_dirty_cleaned\")\n",
    "df_features = spark.table(\"datalottery.lotterybets.lottery_bets_dirty_features\")\n",
    "\n",
    "print(f\"📊 Registros originales: {df_raw.count()}\")\n",
    "print(f\"📈 Registros luego de limpieza: {df_clean.count()}\")"
   ]
  },
  {
   "cell_type": "code",
   "execution_count": 0,
   "metadata": {
    "application/vnd.databricks.v1+cell": {
     "cellMetadata": {
      "byteLimit": 2048000,
      "rowLimit": 10000
     },
     "inputWidgets": {},
     "nuid": "66309117-3b5b-4658-80b4-b71edbbb41bb",
     "showTitle": false,
     "tableResultSettingsMap": {},
     "title": ""
    }
   },
   "outputs": [],
   "source": [
    "# COMMAND ----------\n",
    "# 📊 Calcular nulos\n",
    "from pyspark.sql.types import NumericType\n",
    "\n",
    "def contar_nulos(df):\n",
    "    numeric_cols = [f.name for f in df.schema.fields if isinstance(f.dataType, NumericType)]\n",
    "    non_numeric_cols = [f.name for f in df.schema.fields if not isinstance(f.dataType, NumericType)]\n",
    "\n",
    "    nulos_num = df.select([\n",
    "        count(when(col(c).isNull() | isnan(col(c)), c)).alias(c) for c in numeric_cols\n",
    "    ])\n",
    "    nulos_no_num = df.select([\n",
    "        count(when(col(c).isNull(), c)).alias(c) for c in non_numeric_cols\n",
    "    ])\n",
    "    return nulos_num.join(nulos_no_num).toPandas().T\n",
    "\n",
    "nulos_raw = contar_nulos(df_raw).rename(columns={0: 'nulos_raw'})\n",
    "nulos_clean = contar_nulos(df_clean).rename(columns={0: 'nulos_clean'})\n",
    "nulos_comparativo = pd.concat([nulos_raw, nulos_clean], axis=1)\n",
    "nulos_comparativo[\"% reducción\"] = (\n",
    "    100 * (nulos_comparativo[\"nulos_raw\"] - nulos_comparativo[\"nulos_clean\"]) / nulos_comparativo[\"nulos_raw\"].replace(0, 1)\n",
    ")\n",
    "\n",
    "display(nulos_comparativo)"
   ]
  },
  {
   "cell_type": "code",
   "execution_count": 0,
   "metadata": {
    "application/vnd.databricks.v1+cell": {
     "cellMetadata": {
      "byteLimit": 2048000,
      "rowLimit": 10000
     },
     "inputWidgets": {},
     "nuid": "b3690e0a-a2f7-49d7-9fa3-248662d4df7a",
     "showTitle": false,
     "tableResultSettingsMap": {},
     "title": ""
    }
   },
   "outputs": [],
   "source": [
    "# COMMAND ----------\n",
    "# 📌 Preparar features para más análisis\n",
    "df_pd = df_features.select(\n",
    "    \"bets_last_7d\", \"win_rate_last_30d\", \"ip_risk\", \"geo_risk\",\n",
    "    \"num_picks\", \"avg_stake_amount\", \"suspicious\"\n",
    ").toPandas()"
   ]
  },
  {
   "cell_type": "code",
   "execution_count": 0,
   "metadata": {
    "application/vnd.databricks.v1+cell": {
     "cellMetadata": {
      "byteLimit": 2048000,
      "rowLimit": 10000
     },
     "inputWidgets": {},
     "nuid": "09c1b93b-129d-4d36-9419-f4ae2e21d618",
     "showTitle": false,
     "tableResultSettingsMap": {},
     "title": ""
    }
   },
   "outputs": [],
   "source": [
    "# COMMAND ----------\n",
    "# 📊 Distribución de la variable objetivo\n",
    "sns.countplot(data=df_pd, x=\"suspicious\")\n",
    "plt.title(\"Distribución de registros sospechosos\")\n",
    "plt.show()"
   ]
  },
  {
   "cell_type": "code",
   "execution_count": 0,
   "metadata": {
    "application/vnd.databricks.v1+cell": {
     "cellMetadata": {
      "byteLimit": 2048000,
      "rowLimit": 10000
     },
     "inputWidgets": {},
     "nuid": "787914b5-0fd0-4fa9-9372-3a6b4be1f5b6",
     "showTitle": false,
     "tableResultSettingsMap": {},
     "title": ""
    }
   },
   "outputs": [],
   "source": [
    "# 📊 Histograma de montos apostados\n",
    "sns.histplot(df_pd[\"avg_stake_amount\"], kde=True, bins=30)\n",
    "plt.title(\"Distribución de monto promedio apostado\")\n",
    "plt.show()"
   ]
  },
  {
   "cell_type": "code",
   "execution_count": 0,
   "metadata": {
    "application/vnd.databricks.v1+cell": {
     "cellMetadata": {
      "byteLimit": 2048000,
      "rowLimit": 10000
     },
     "inputWidgets": {},
     "nuid": "7755705e-e25f-4295-8089-3cd96cb174ca",
     "showTitle": false,
     "tableResultSettingsMap": {},
     "title": ""
    }
   },
   "outputs": [],
   "source": [
    "\n",
    "# 📊 Distribución de bets_last_7d\n",
    "sns.histplot(df_pd[\"bets_last_7d\"], bins=20, kde=True)\n",
    "plt.title(\"Distribución de apuestas últimos 7 días\")\n",
    "plt.show()"
   ]
  },
  {
   "cell_type": "code",
   "execution_count": 0,
   "metadata": {
    "application/vnd.databricks.v1+cell": {
     "cellMetadata": {
      "byteLimit": 2048000,
      "rowLimit": 10000
     },
     "inputWidgets": {},
     "nuid": "f8da4754-6fa1-466b-8599-05a038f5a3de",
     "showTitle": false,
     "tableResultSettingsMap": {},
     "title": ""
    }
   },
   "outputs": [],
   "source": [
    "# 📊 Distribución de win_rate_last_30d\n",
    "sns.histplot(df_pd[\"win_rate_last_30d\"], bins=20, kde=True)\n",
    "plt.title(\"Distribución de tasa de victoria últimos 30 días\")\n",
    "plt.show()"
   ]
  },
  {
   "cell_type": "code",
   "execution_count": 0,
   "metadata": {
    "application/vnd.databricks.v1+cell": {
     "cellMetadata": {
      "byteLimit": 2048000,
      "rowLimit": 10000
     },
     "inputWidgets": {},
     "nuid": "d330056d-a0b0-444d-af9d-1804870b0fe0",
     "showTitle": false,
     "tableResultSettingsMap": {
      "0": {
       "dataGridStateBlob": "{\"version\":1,\"tableState\":{\"columnPinning\":{\"left\":[\"#row_number#\"],\"right\":[]},\"columnSizing\":{\"KPI\":220},\"columnVisibility\":{}},\"settings\":{\"columns\":{}},\"syncTimestamp\":1757991778281}",
       "filterBlob": null,
       "queryPlanFiltersBlob": null,
       "tableResultIndex": 0
      }
     },
     "title": ""
    }
   },
   "outputs": [],
   "source": [
    "\n",
    "# COMMAND ----------\n",
    "# 📌 KPIs resumen\n",
    "kpis = {\n",
    "    \"Registros originales\": df_raw.count(),\n",
    "    \"Registros limpios\": df_clean.count(),\n",
    "    \"Usuarios únicos\": df_clean.select(\"user_id\").distinct().count(),\n",
    "    \"Tasa sospechosos (%)\": round(100*df_pd[\"suspicious\"].mean(),2),\n",
    "    \"Promedio stake_amount\": round(df_pd[\"avg_stake_amount\"].mean(),2),\n",
    "    \"Promedio bets_last_7d\": round(df_pd[\"bets_last_7d\"].mean(),2),\n",
    "    \"Promedio win_rate_30d\": round(df_pd[\"win_rate_last_30d\"].mean(),3),\n",
    "    \"Duplicados eliminados\": df_raw.count() - df_clean.count(),\n",
    "}\n",
    "\n",
    "# Crear DataFrame desde el diccionario\n",
    "kpis_df = pd.DataFrame(list(kpis.items()), columns=[\"KPI\", \"Valor\"])\n",
    "\n",
    "# Asegurar que la columna 'Valor' esté en formato string (por seguridad al mostrar)\n",
    "kpis_df[\"Valor\"] = kpis_df[\"Valor\"].astype(str)\n",
    "\n",
    "# Mostrar resultados en notebook (Databricks)\n",
    "display(kpis_df)\n"
   ]
  }
 ],
 "metadata": {
  "application/vnd.databricks.v1+notebook": {
   "computePreferences": null,
   "dashboards": [],
   "environmentMetadata": {
    "base_environment": "",
    "environment_version": "3"
   },
   "inputWidgetPreferences": null,
   "language": "python",
   "notebookMetadata": {
    "pythonIndentUnit": 4
   },
   "notebookName": "05_KPI_Report_Despues",
   "widgets": {}
  },
  "language_info": {
   "name": "python"
  }
 },
 "nbformat": 4,
 "nbformat_minor": 0
}
