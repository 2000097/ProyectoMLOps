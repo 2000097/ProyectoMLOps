{
 "cells": [
  {
   "cell_type": "code",
   "execution_count": 0,
   "metadata": {
    "application/vnd.databricks.v1+cell": {
     "cellMetadata": {
      "byteLimit": 2048000,
      "rowLimit": 10000
     },
     "inputWidgets": {},
     "nuid": "60e33044-029d-4f95-9221-63e99590c2db",
     "showTitle": false,
     "tableResultSettingsMap": {},
     "title": ""
    }
   },
   "outputs": [],
   "source": [
    "# # 02 - Ingeniería de Features\n",
    "\n",
    "# COMMAND ----------\n",
    "\n",
    "from pyspark.sql.functions import avg\n",
    "\n",
    "# Leer datos limpios\n",
    "df = spark.table(\"datalottery.lotterybets.lottery_bets_dirty_cleaned\")\n",
    "\n",
    "# Promedio de monto apostado por usuario\n",
    "avg_stake = df.groupBy(\"user_id\").agg(avg(\"stake_amount\").alias(\"avg_stake_amount\"))\n",
    "\n",
    "# Riesgos agregados por usuario\n",
    "user_risk_avg = df.groupBy(\"user_id\").agg(\n",
    "    avg(\"ip_risk\").alias(\"avg_user_ip_risk\"),\n",
    "    avg(\"geo_risk\").alias(\"avg_user_geo_risk\")\n",
    ")\n",
    "\n",
    "# Base features\n",
    "features_df = df.select(\n",
    "    \"user_id\",\n",
    "    \"bets_last_7d\",            \n",
    "    \"win_rate_last_30d\",\n",
    "    \"ip_risk\",\n",
    "    \"geo_risk\",\n",
    "    \"num_picks\",\n",
    "    \"suspicious\"\n",
    ").dropDuplicates([\"user_id\"])\n",
    "\n",
    "# Unión de todas las features\n",
    "features_df = features_df \\\n",
    "    .join(avg_stake, on=\"user_id\", how=\"left\") \\\n",
    "    .join(user_risk_avg, on=\"user_id\", how=\"left\")\n",
    "\n",
    "# Guardar tabla final\n",
    "features_df.write \\\n",
    "    .format(\"delta\") \\\n",
    "    .mode(\"overwrite\") \\\n",
    "    .option(\"mergeSchema\", \"true\") \\\n",
    "    .saveAsTable(\"datalottery.lotterybets.lottery_bets_dirty_features\")\n"
   ]
  },
  {
   "cell_type": "code",
   "execution_count": 0,
   "metadata": {
    "application/vnd.databricks.v1+cell": {
     "cellMetadata": {
      "byteLimit": 2048000,
      "rowLimit": 10000
     },
     "inputWidgets": {},
     "nuid": "9705355e-32fa-487c-b5db-ea34709a5758",
     "showTitle": false,
     "tableResultSettingsMap": {},
     "title": ""
    }
   },
   "outputs": [],
   "source": [
    "print(df.columns)"
   ]
  }
 ],
 "metadata": {
  "application/vnd.databricks.v1+notebook": {
   "computePreferences": null,
   "dashboards": [],
   "environmentMetadata": {
    "base_environment": "",
    "environment_version": "3"
   },
   "inputWidgetPreferences": null,
   "language": "python",
   "notebookMetadata": {
    "pythonIndentUnit": 4
   },
   "notebookName": "02_feature_engineering",
   "widgets": {}
  },
  "language_info": {
   "name": "python"
  }
 },
 "nbformat": 4,
 "nbformat_minor": 0
}
