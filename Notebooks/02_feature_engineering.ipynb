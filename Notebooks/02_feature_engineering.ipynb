{
 "cells": [
  {
   "cell_type": "code",
   "execution_count": 0,
   "metadata": {
    "application/vnd.databricks.v1+cell": {
     "cellMetadata": {
      "byteLimit": 2048000,
      "rowLimit": 10000
     },
     "inputWidgets": {},
     "nuid": "60e33044-029d-4f95-9221-63e99590c2db",
     "showTitle": false,
     "tableResultSettingsMap": {},
     "title": ""
    }
   },
   "outputs": [],
   "source": [
    "# # 02 - Ingeniería de Features\n",
    "\n",
    "# COMMAND ----------\n",
    "\n",
    "from pyspark.sql.functions import avg\n",
    "\n",
    "# Leer datos limpios desde tabla\n",
    "df = spark.table(\"datalottery.lotterybets.lottery_bets_dirty_cleaned\")\n",
    "\n",
    "# Promedio de monto por usuario\n",
    "avg_stake = df.groupBy(\"user_id\").agg(avg(\"stake_amount\").alias(\"avg_stake_amount\"))\n",
    "\n",
    "# Selección de features\n",
    "features_df = df.select(\n",
    "    \"user_id\",\n",
    "    \"bets_last_7d\",\n",
    "    \"win_rate_last_30d\",\n",
    "    \"ip_risk\",\n",
    "    \"geo_risk\",\n",
    "    \"num_picks\",\n",
    "    \"suspicious\"\n",
    ").dropDuplicates([\"user_id\"])\n",
    "\n",
    "# Unión con el promedio\n",
    "features_df = features_df.join(avg_stake, on=\"user_id\", how=\"left\")\n",
    "\n",
    "# Guardar como tabla Delta\n",
    "features_df.write.format(\"delta\").mode(\"overwrite\").saveAsTable(\"datalottery.lotterybets.lottery_bets_dirty_features\")"
   ]
  }
 ],
 "metadata": {
  "application/vnd.databricks.v1+notebook": {
   "computePreferences": null,
   "dashboards": [],
   "environmentMetadata": {
    "base_environment": "",
    "environment_version": "3"
   },
   "inputWidgetPreferences": null,
   "language": "python",
   "notebookMetadata": {
    "pythonIndentUnit": 4
   },
   "notebookName": "02_feature_engineering",
   "widgets": {}
  },
  "language_info": {
   "name": "python"
  }
 },
 "nbformat": 4,
 "nbformat_minor": 0
}
