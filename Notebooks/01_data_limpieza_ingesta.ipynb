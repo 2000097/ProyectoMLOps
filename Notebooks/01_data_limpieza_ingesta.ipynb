{
 "cells": [
  {
   "cell_type": "code",
   "execution_count": 0,
   "metadata": {
    "application/vnd.databricks.v1+cell": {
     "cellMetadata": {
      "byteLimit": 2048000,
      "rowLimit": 10000
     },
     "inputWidgets": {},
     "nuid": "bdbdc954-bfc7-4dc8-a497-28469b7e8541",
     "showTitle": false,
     "tableResultSettingsMap": {},
     "title": ""
    }
   },
   "outputs": [],
   "source": [
    "# # 01 - Limpieza de Datos\n",
    "\n",
    "# COMMAND ----------\n",
    "\n",
    "from pyspark.sql.functions import col\n",
    "from datetime import datetime\n",
    "import json\n",
    "\n",
    "# Leer la tabla original\n",
    "df = spark.table(\"datalottery.lotterybets.lottery_bets_dirty\")\n",
    "print(f\"Registros originales: {df.count()}\")\n",
    "\n",
    "# Eliminar duplicados por bet_id\n",
    "df = df.dropDuplicates(subset=[\"bet_id\"])\n",
    "\n",
    "# Rellenar valores nulos\n",
    "df = df.na.fill({\n",
    "    \"stake_amount\": 0.0,\n",
    "    \"channel\": \"desconocido\",\n",
    "    \"minutes_before_close\": 0,\n",
    "    \"bets_last_7d\": 0,\n",
    "    \"win_rate_last_30d\": 0.0,\n",
    "    \"ip_risk\": 0.0,\n",
    "    \"geo_risk\": 0.0,\n",
    "    \"num_picks\": 1,\n",
    "    \"suspicious\": 0\n",
    "})\n",
    "\n",
    "# Validar rangos\n",
    "df = df.filter(\n",
    "    (col(\"stake_amount\") >= 0) & (col(\"stake_amount\") <= 10000) &\n",
    "    (col(\"minutes_before_close\") >= 0) &\n",
    "    (col(\"win_rate_last_30d\") >= 0) & (col(\"win_rate_last_30d\") <= 1) &\n",
    "    (col(\"ip_risk\") >= 0) & (col(\"ip_risk\") <= 1) &\n",
    "    (col(\"geo_risk\") >= 0) & (col(\"geo_risk\") <= 1)\n",
    ")\n",
    "\n",
    "print(f\"Registros después de limpieza: {df.count()}\")\n",
    "\n",
    "# Guardar como tabla Delta\n",
    "df.write.format(\"delta\").mode(\"overwrite\").saveAsTable(\"datalottery.lotterybets.lottery_bets_dirty_cleaned\")"
   ]
  }
 ],
 "metadata": {
  "application/vnd.databricks.v1+notebook": {
   "computePreferences": null,
   "dashboards": [],
   "environmentMetadata": {
    "base_environment": "",
    "environment_version": "3"
   },
   "inputWidgetPreferences": null,
   "language": "python",
   "notebookMetadata": {
    "pythonIndentUnit": 4
   },
   "notebookName": "01_data_limpieza_ingesta",
   "widgets": {}
  },
  "language_info": {
   "name": "python"
  }
 },
 "nbformat": 4,
 "nbformat_minor": 0
}
