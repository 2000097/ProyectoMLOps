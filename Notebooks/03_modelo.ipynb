{
 "cells": [
  {
   "cell_type": "code",
   "execution_count": 0,
   "metadata": {
    "application/vnd.databricks.v1+cell": {
     "cellMetadata": {
      "byteLimit": 2048000,
      "rowLimit": 10000
     },
     "inputWidgets": {},
     "nuid": "f55eab3f-6f55-444f-bb3e-018b8c22565b",
     "showTitle": false,
     "tableResultSettingsMap": {},
     "title": ""
    }
   },
   "outputs": [],
   "source": [
    "# # 03 - Entrenamiento Modelo con scikit-learn (sin MLlib)\n",
    "\n",
    "# COMMAND ----------\n",
    "\n",
    "# Importar librerías Python\n",
    "import pandas as pd\n",
    "from sklearn.ensemble import RandomForestClassifier\n",
    "from sklearn.metrics import roc_auc_score\n",
    "from sklearn.model_selection import train_test_split\n",
    "\n",
    "# Leer datos de features desde Spark y convertir a pandas\n",
    "df_spark = spark.table(\"datalottery.lotterybets.lottery_bets_dirty_features\")\n",
    "\n",
    "# Convertir a pandas (ojo con el tamaño de datos)\n",
    "df = df_spark.toPandas()\n",
    "\n",
    "# Revisar columnas\n",
    "print(df.columns)\n",
    "\n",
    "# Variables predictoras (features)\n",
    "feature_cols = [\n",
    "    \"bets_last_7d\", \"win_rate_last_30d\", \"ip_risk\", \"geo_risk\",\n",
    "    \"num_picks\", \"avg_stake_amount\"\n",
    "]\n",
    "\n",
    "X = df[feature_cols]\n",
    "y = df[\"suspicious\"]\n",
    "\n",
    "# División en train/test (80%/20%)\n",
    "X_train, X_test, y_train, y_test = train_test_split(X, y, test_size=0.2, random_state=42)\n",
    "\n",
    "# Crear modelo Random Forest\n",
    "model = RandomForestClassifier(random_state=42, n_estimators=100)\n",
    "\n",
    "# Entrenar modelo\n",
    "model.fit(X_train, y_train)\n",
    "\n",
    "# Predecir probabilidades en test\n",
    "y_pred_prob = model.predict_proba(X_test)[:, 1]\n",
    "\n",
    "# Evaluar con AUC\n",
    "auc = roc_auc_score(y_test, y_pred_prob)\n",
    "print(f\"✅ AUC: {auc:.3f}\")\n"
   ]
  },
  {
   "cell_type": "code",
   "execution_count": 0,
   "metadata": {
    "application/vnd.databricks.v1+cell": {
     "cellMetadata": {
      "byteLimit": 2048000,
      "rowLimit": 10000
     },
     "inputWidgets": {},
     "nuid": "5b3e3e49-41e4-4b60-8f8d-da6d05f0cb05",
     "showTitle": false,
     "tableResultSettingsMap": {},
     "title": ""
    }
   },
   "outputs": [],
   "source": [
    "# 📌 Verificación: Tabla de features y modelo\n",
    "df_features = spark.table(\"datalottery.lotterybets.lottery_bets_dirty_features\")\n",
    "print(f\"✅ Features cargadas: {df_features.count()} registros\")\n",
    "\n",
    "# Convertir a pandas\n",
    "df_pd = df_features.select(\n",
    "    \"bets_last_7d\", \"win_rate_last_30d\", \"ip_risk\", \"geo_risk\", \n",
    "    \"num_picks\", \"avg_stake_amount\", \"suspicious\"\n",
    ").toPandas()\n",
    "\n",
    "# 🔁 Convertir columnas categóricas a numéricas\n",
    "from sklearn.preprocessing import LabelEncoder\n",
    "\n",
    "for col in [\"ip_risk\", \"geo_risk\"]:\n",
    "    if df_pd[col].dtype == \"object\":\n",
    "        le = LabelEncoder()\n",
    "        df_pd[col] = le.fit_transform(df_pd[col].astype(str))\n",
    "\n",
    "# Separar X, y\n",
    "X = df_pd.drop(columns=[\"suspicious\"])\n",
    "y = df_pd[\"suspicious\"]\n",
    "\n",
    "# Intentar cargar el modelo\n",
    "try:\n",
    "    model = joblib.load(\"/tmp/ProyectoMLOps_rf_model.joblib\")\n",
    "    y_pred = model.predict_proba(X)[:, 1]\n",
    "    auc = roc_auc_score(y, y_pred)\n",
    "    print(f\"🎯 AUC del modelo actual: {auc:.3f}\")\n",
    "except Exception as e:\n",
    "    print(\"⚠️ No se pudo cargar el modelo. Error:\", e)"
   ]
  },
  {
   "cell_type": "code",
   "execution_count": 0,
   "metadata": {
    "application/vnd.databricks.v1+cell": {
     "cellMetadata": {},
     "inputWidgets": {},
     "nuid": "35b37a13-2cc9-485f-a2df-169bab705eb4",
     "showTitle": false,
     "tableResultSettingsMap": {},
     "title": ""
    }
   },
   "outputs": [],
   "source": []
  }
 ],
 "metadata": {
  "application/vnd.databricks.v1+notebook": {
   "computePreferences": null,
   "dashboards": [],
   "environmentMetadata": {
    "base_environment": "",
    "environment_version": "3"
   },
   "inputWidgetPreferences": null,
   "language": "python",
   "notebookMetadata": {
    "pythonIndentUnit": 4
   },
   "notebookName": "03_modelo",
   "widgets": {}
  },
  "language_info": {
   "name": "python"
  }
 },
 "nbformat": 4,
 "nbformat_minor": 0
}
