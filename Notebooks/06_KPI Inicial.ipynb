{
 "cells": [
  {
   "cell_type": "code",
   "execution_count": 0,
   "metadata": {
    "application/vnd.databricks.v1+cell": {
     "cellMetadata": {
      "byteLimit": 2048000,
      "rowLimit": 10000
     },
     "inputWidgets": {},
     "nuid": "a9257ac5-ae0e-4a08-b783-ac0ee52778d9",
     "showTitle": false,
     "tableResultSettingsMap": {},
     "title": ""
    }
   },
   "outputs": [],
   "source": [
    "# 05 - KPI Inicial\n",
    "\n",
    "# COMMAND ----------\n",
    "from pyspark.sql.functions import col, count, when, isnan, avg\n",
    "import matplotlib.pyplot as plt\n",
    "import seaborn as sns\n",
    "import pandas as pd\n",
    "from sklearn.metrics import roc_auc_score, roc_curve\n",
    "import joblib\n",
    "import numpy as np\n",
    "\n",
    "sns.set(style=\"whitegrid\")\n",
    "plt.rcParams[\"figure.figsize\"] = (10, 6)\n",
    "\n",
    "# COMMAND ----------\n",
    "# 📌 Cargar tablas\n",
    "df_raw = spark.table(\"datalottery.lotterybets.lottery_bets_dirty\")\n",
    "\n",
    "print(f\"📊 Registros originales: {df_raw.count()}\")\n",
    "\n",
    "# COMMAND ----------\n",
    "# 📊 Calcular nulos\n",
    "from pyspark.sql.types import NumericType\n",
    "\n",
    "def contar_nulos(df):\n",
    "    numeric_cols = [f.name for f in df.schema.fields if isinstance(f.dataType, NumericType)]\n",
    "    non_numeric_cols = [f.name for f in df.schema.fields if not isinstance(f.dataType, NumericType)]\n",
    "\n",
    "    nulos_num = df.select([\n",
    "        count(when(col(c).isNull() | isnan(col(c)), c)).alias(c) for c in numeric_cols\n",
    "    ])\n",
    "    nulos_no_num = df.select([\n",
    "        count(when(col(c).isNull(), c)).alias(c) for c in non_numeric_cols\n",
    "    ])\n",
    "    return nulos_num.join(nulos_no_num).toPandas().T\n",
    "\n",
    "nulos_raw = contar_nulos(df_raw).rename(columns={0: 'nulos_raw'})\n",
    "\n",
    "# COMMAND ----------\n",
    "# 📌 Preparar features para más análisis\n",
    "df_pd = df_raw.select(\n",
    "    \"bets_last_7d\", \"win_rate_last_30d\", \"ip_risk\", \"geo_risk\",\n",
    "    \"num_picks\", \"stake_amount\", \"suspicious\"\n",
    ").toPandas()\n",
    "\n",
    "\n",
    "# COMMAND ----------\n",
    "# 📊 Distribución de la variable objetivo\n",
    "sns.countplot(data=df_pd, x=\"suspicious\")\n",
    "plt.title(\"Distribución de registros sospechosos\")\n",
    "plt.show()\n",
    "\n",
    "\n",
    "# 📊 Distribución de bets_last_7d\n",
    "sns.histplot(df_pd[\"bets_last_7d\"], bins=20, kde=True)\n",
    "plt.title(\"Distribución de apuestas últimos 7 días\")\n",
    "plt.show()\n",
    "\n",
    "# 📊 Distribución de win_rate_last_30d\n",
    "sns.histplot(df_pd[\"win_rate_last_30d\"], bins=20, kde=True)\n",
    "plt.title(\"Distribución de tasa de victoria últimos 30 días\")\n",
    "plt.show()\n",
    "\n",
    "\n",
    "# COMMAND ----------\n",
    "# 📌 KPIs resumen\n",
    "kpis = {\n",
    "    \"Registros originales\": df_raw.count(),\n",
    "    \"Tasa sospechosos (%)\": round(100*df_pd[\"suspicious\"].mean(),2),\n",
    "    \"Promedio stake_amount\": round(df_pd[\"stake_amount\"].mean(),2),\n",
    "    \"Promedio bets_last_7d\": round(df_pd[\"bets_last_7d\"].mean(),2),\n",
    "    \"Promedio win_rate_30d\": round(df_pd[\"win_rate_last_30d\"].mean(),3),\n",
    "}\n",
    "\n",
    "# Crear DataFrame desde el diccionario\n",
    "kpis_df = pd.DataFrame(list(kpis.items()), columns=[\"KPI\", \"Valor\"])\n",
    "\n",
    "# Asegurar que la columna 'Valor' esté en formato string (por seguridad al mostrar)\n",
    "kpis_df[\"Valor\"] = kpis_df[\"Valor\"].astype(str)\n",
    "\n",
    "# Mostrar resultados en notebook (Databricks)\n",
    "display(kpis_df)\n"
   ]
  }
 ],
 "metadata": {
  "application/vnd.databricks.v1+notebook": {
   "computePreferences": null,
   "dashboards": [],
   "environmentMetadata": {
    "base_environment": "",
    "environment_version": "3"
   },
   "inputWidgetPreferences": null,
   "language": "python",
   "notebookMetadata": {
    "pythonIndentUnit": 4
   },
   "notebookName": "06_KPI Inicial",
   "widgets": {}
  },
  "language_info": {
   "name": "python"
  }
 },
 "nbformat": 4,
 "nbformat_minor": 0
}
